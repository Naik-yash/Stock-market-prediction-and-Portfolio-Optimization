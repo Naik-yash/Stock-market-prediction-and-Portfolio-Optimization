{
 "cells": [
  {
   "cell_type": "code",
   "execution_count": 107,
   "metadata": {},
   "outputs": [],
   "source": [
    "import datetime as dt\n",
    "import time\n",
    "import random\n",
    "from selenium import webdriver"
   ]
  },
  {
   "cell_type": "code",
   "execution_count": 92,
   "metadata": {},
   "outputs": [],
   "source": [
    "import matplotlib.pyplot as plt\n",
    "import matplotlib.dates as mdates"
   ]
  },
  {
   "cell_type": "code",
   "execution_count": 106,
   "metadata": {},
   "outputs": [],
   "source": [
    "from matplotlib import style\n",
    "from mpl_finance import candlestick_ohlc\n",
    "from selenium.webdriver.support.select import Select\n",
    "from selenium.webdriver.support.wait import WebDriverWait\n",
    "from selenium.webdriver import ActionChains\n",
    "from selenium.webdriver.common.by import By\n",
    "from selenium.webdriver.support import expected_conditions as EC"
   ]
  },
  {
   "cell_type": "code",
   "execution_count": 99,
   "metadata": {},
   "outputs": [],
   "source": [
    "import pandas as pd\n",
    "import pandas_datareader.data as web\n",
    "import bs4 as bs\n",
    "from bs4 import BeautifulSoup\n",
    "import pickle\n",
    "import requests\n",
    "import fix_yahoo_finance as yf\n",
    "yf.pdr_override() \n",
    "import os\n",
    "import numpy as np"
   ]
  },
  {
   "cell_type": "code",
   "execution_count": 95,
   "metadata": {},
   "outputs": [],
   "source": [
    "style.use('ggplot')\n",
    "tickers=[]\n",
    "name=[]"
   ]
  },
  {
   "cell_type": "code",
   "execution_count": 34,
   "metadata": {},
   "outputs": [
    {
     "name": "stdout",
     "output_type": "stream",
     "text": [
      "[*********************100%***********************]  1 of 1 downloaded\n"
     ]
    }
   ],
   "source": [
    "start= dt.datetime(2000,1,1)\n",
    "end= dt.datetime(2018,2,28)\n",
    "df = web.get_data_yahoo('MMM',start,end)"
   ]
  },
  {
   "cell_type": "code",
   "execution_count": 22,
   "metadata": {},
   "outputs": [
    {
     "name": "stdout",
     "output_type": "stream",
     "text": [
      "                Open      High       Low    Close  Adj Close   Volume\n",
      "Date                                                                 \n",
      "2000-01-03  48.03125  48.25000  47.03125  47.1875  30.435419  2173400\n",
      "2000-01-04  46.43750  47.40625  45.31250  45.3125  29.226057  2713800\n",
      "2000-01-05  45.56250  48.12500  45.56250  46.6250  30.072615  3699400\n",
      "2000-01-06  47.15625  51.25000  47.15625  50.3750  32.491302  5975800\n",
      "2000-01-07  50.56250  51.90625  49.96875  51.3750  33.136307  4101200\n"
     ]
    }
   ],
   "source": [
    "\n",
    "\n",
    "\n"
   ]
  },
  {
   "cell_type": "code",
   "execution_count": 9,
   "metadata": {},
   "outputs": [
    {
     "ename": "ImmediateDeprecationError",
     "evalue": "\nYahoo Actions has been immediately deprecated due to large breaks in the API without the\nintroduction of a stable replacement. Pull Requests to re-enable these data\nconnectors are welcome.\n\nSee https://github.com/pydata/pandas-datareader/issues\n",
     "output_type": "error",
     "traceback": [
      "\u001b[0;31m---------------------------------------------------------------------------\u001b[0m",
      "\u001b[0;31mImmediateDeprecationError\u001b[0m                 Traceback (most recent call last)",
      "\u001b[0;32m<ipython-input-9-692adf4acaad>\u001b[0m in \u001b[0;36m<module>\u001b[0;34m()\u001b[0m\n\u001b[0;32m----> 1\u001b[0;31m \u001b[0mdf\u001b[0m \u001b[0;34m=\u001b[0m \u001b[0mweb\u001b[0m\u001b[0;34m.\u001b[0m\u001b[0mget_data_yahoo\u001b[0m\u001b[0;34m(\u001b[0m\u001b[0;34m'GOOG'\u001b[0m\u001b[0;34m,\u001b[0m \u001b[0mstart\u001b[0m\u001b[0;34m,\u001b[0m \u001b[0mend\u001b[0m\u001b[0;34m)\u001b[0m\u001b[0;34m\u001b[0m\u001b[0m\n\u001b[0m",
      "\u001b[0;32m~/anaconda3/lib/python3.6/site-packages/pandas_datareader/data.py\u001b[0m in \u001b[0;36mget_data_yahoo\u001b[0;34m(*args, **kwargs)\u001b[0m\n\u001b[1;32m     61\u001b[0m \u001b[0;34m\u001b[0m\u001b[0m\n\u001b[1;32m     62\u001b[0m \u001b[0;32mdef\u001b[0m \u001b[0mget_data_yahoo\u001b[0m\u001b[0;34m(\u001b[0m\u001b[0;34m*\u001b[0m\u001b[0margs\u001b[0m\u001b[0;34m,\u001b[0m \u001b[0;34m**\u001b[0m\u001b[0mkwargs\u001b[0m\u001b[0;34m)\u001b[0m\u001b[0;34m:\u001b[0m\u001b[0;34m\u001b[0m\u001b[0m\n\u001b[0;32m---> 63\u001b[0;31m     \u001b[0;32mraise\u001b[0m \u001b[0mImmediateDeprecationError\u001b[0m\u001b[0;34m(\u001b[0m\u001b[0mDEP_ERROR_MSG\u001b[0m\u001b[0;34m.\u001b[0m\u001b[0mformat\u001b[0m\u001b[0;34m(\u001b[0m\u001b[0;34m'Yahoo Actions'\u001b[0m\u001b[0;34m)\u001b[0m\u001b[0;34m)\u001b[0m\u001b[0;34m\u001b[0m\u001b[0m\n\u001b[0m\u001b[1;32m     64\u001b[0m     \u001b[0;32mreturn\u001b[0m \u001b[0mYahooDailyReader\u001b[0m\u001b[0;34m(\u001b[0m\u001b[0;34m*\u001b[0m\u001b[0margs\u001b[0m\u001b[0;34m,\u001b[0m \u001b[0;34m**\u001b[0m\u001b[0mkwargs\u001b[0m\u001b[0;34m)\u001b[0m\u001b[0;34m.\u001b[0m\u001b[0mread\u001b[0m\u001b[0;34m(\u001b[0m\u001b[0;34m)\u001b[0m\u001b[0;34m\u001b[0m\u001b[0m\n\u001b[1;32m     65\u001b[0m \u001b[0;34m\u001b[0m\u001b[0m\n",
      "\u001b[0;31mImmediateDeprecationError\u001b[0m: \nYahoo Actions has been immediately deprecated due to large breaks in the API without the\nintroduction of a stable replacement. Pull Requests to re-enable these data\nconnectors are welcome.\n\nSee https://github.com/pydata/pandas-datareader/issues\n"
     ]
    }
   ],
   "source": [
    "df = web.get_data_yahoo('GOOG', start, end)"
   ]
  },
  {
   "cell_type": "code",
   "execution_count": 11,
   "metadata": {},
   "outputs": [
    {
     "name": "stderr",
     "output_type": "stream",
     "text": [
      "/Users/yash/anaconda3/lib/python3.6/site-packages/pandas_datareader/google/daily.py:40: UnstableAPIWarning: \n",
      "The Google Finance API has not been stable since late 2017. Requests seem\n",
      "to fail at random. Failure is especially common when bulk downloading.\n",
      "\n",
      "  warnings.warn(UNSTABLE_WARNING, UnstableAPIWarning)\n"
     ]
    }
   ],
   "source": [
    "df=web.DataReader(\"TSLA\", 'google', start, end) "
   ]
  },
  {
   "cell_type": "code",
   "execution_count": 14,
   "metadata": {},
   "outputs": [
    {
     "name": "stdout",
     "output_type": "stream",
     "text": [
      "             Open   High    Low  Close    Volume\n",
      "Date                                            \n",
      "2010-06-29  19.00  25.00  17.54  23.89  18783276\n",
      "2010-06-30  25.79  30.42  23.30  23.83  17194394\n",
      "2010-07-01  25.00  25.92  20.27  21.96   8229863\n",
      "2010-07-02  23.00  23.10  18.71  19.20   5141807\n",
      "2010-07-06  20.00  20.00  15.83  16.11   6879296\n"
     ]
    }
   ],
   "source": [
    "print(df.head())"
   ]
  },
  {
   "cell_type": "code",
   "execution_count": 15,
   "metadata": {},
   "outputs": [
    {
     "name": "stdout",
     "output_type": "stream",
     "text": [
      "              Open    High     Low   Close   Volume\n",
      "Date                                               \n",
      "2018-02-22  335.53  347.44  334.75  346.17  6969808\n",
      "2018-02-23  347.83  354.99  347.10  352.05  5817387\n",
      "2018-02-26  353.50  359.00  352.36  357.42  4339985\n",
      "2018-02-27  356.25  359.99  350.01  350.99  4797419\n",
      "2018-02-28  352.57  355.24  342.22  343.06  6069658\n"
     ]
    }
   ],
   "source": [
    "print(df.tail())"
   ]
  },
  {
   "cell_type": "code",
   "execution_count": null,
   "metadata": {},
   "outputs": [],
   "source": [
    "#df.to_csv(\"name.csv\") - to convert the file to csv\n"
   ]
  },
  {
   "cell_type": "code",
   "execution_count": 18,
   "metadata": {},
   "outputs": [],
   "source": [
    "df['100ma']= df['Close'].rolling(window=100,min_periods=0).mean()"
   ]
  },
  {
   "cell_type": "code",
   "execution_count": 19,
   "metadata": {},
   "outputs": [
    {
     "name": "stdout",
     "output_type": "stream",
     "text": [
      "             Open   High    Low  Close    Volume      100ma\n",
      "Date                                                       \n",
      "2010-06-29  19.00  25.00  17.54  23.89  18783276  23.890000\n",
      "2010-06-30  25.79  30.42  23.30  23.83  17194394  23.860000\n",
      "2010-07-01  25.00  25.92  20.27  21.96   8229863  23.226667\n",
      "2010-07-02  23.00  23.10  18.71  19.20   5141807  22.220000\n",
      "2010-07-06  20.00  20.00  15.83  16.11   6879296  20.998000\n"
     ]
    }
   ],
   "source": [
    "print(df.head())\n"
   ]
  },
  {
   "cell_type": "code",
   "execution_count": 12,
   "metadata": {},
   "outputs": [],
   "source": [
    "df.to_csv('TSLA.csv')"
   ]
  },
  {
   "cell_type": "code",
   "execution_count": 13,
   "metadata": {},
   "outputs": [],
   "source": [
    "df= pd.read_csv('TSLA.csv', parse_dates=True, index_col=0)\n",
    "df['100ma']= df['Close'].rolling(window=100,min_periods=0).mean()"
   ]
  },
  {
   "cell_type": "code",
   "execution_count": 25,
   "metadata": {},
   "outputs": [
    {
     "data": {
      "text/plain": [
       "<BarContainer object of 1931 artists>"
      ]
     },
     "execution_count": 25,
     "metadata": {},
     "output_type": "execute_result"
    },
    {
     "data": {
      "image/png": "[encoded data removed]",
      "text/plain": [
       "<Figure size 432x288 with 2 Axes>"
      ]
     },
     "metadata": {},
     "output_type": "display_data"
    }
   ],
   "source": [
    "ax1=plt.subplot2grid((6,1),(0,0),rowspan=5, colspan=1)\n",
    "ax1.plot(df.index, df['Close'])\n",
    "ax1.plot(df.index, df['100ma'])\n",
    "ax2=plt.subplot2grid((6,1),(5,0),rowspan=1, colspan=1, sharex=ax1)\n",
    "ax1.bar(df.index, df['Volume'])"
   ]
  },
  {
   "cell_type": "code",
   "execution_count": 34,
   "metadata": {},
   "outputs": [
    {
     "name": "stdout",
     "output_type": "stream",
     "text": [
      "             open   high    low  close\n",
      "Date                                  \n",
      "2010-06-29  23.89  23.89  15.80  17.46\n",
      "2010-07-09  17.40  20.64  17.05  20.64\n",
      "2010-07-19  21.91  21.91  20.22  20.72\n",
      "2010-07-29  20.35  21.95  19.59  19.59\n",
      "2010-08-08  19.60  19.60  17.60  19.15\n"
     ]
    }
   ],
   "source": [
    "df_ohlc= df['Close'].resample('10D').ohlc()\n",
    "df_volume= df['Volume'].resample('10D').sum()\n",
    "print(df_ohlc.head())"
   ]
  },
  {
   "cell_type": "raw",
   "metadata": {},
   "source": []
  },
  {
   "cell_type": "code",
   "execution_count": 36,
   "metadata": {},
   "outputs": [
    {
     "name": "stdout",
     "output_type": "stream",
     "text": [
      "        Date   open   high    low  close\n",
      "0 2010-06-29  23.89  23.89  15.80  17.46\n",
      "1 2010-07-09  17.40  20.64  17.05  20.64\n",
      "2 2010-07-19  21.91  21.91  20.22  20.72\n",
      "3 2010-07-29  20.35  21.95  19.59  19.59\n",
      "4 2010-08-08  19.60  19.60  17.60  19.15\n"
     ]
    }
   ],
   "source": [
    "df_ohlc.reset_index(inplace=True)\n",
    "print(df_ohlc.head())"
   ]
  },
  {
   "cell_type": "code",
   "execution_count": 40,
   "metadata": {},
   "outputs": [],
   "source": [
    "df_ohlc['Date']=df_ohlc['Date'].map(mdates.date2num)"
   ]
  },
  {
   "cell_type": "code",
   "execution_count": 41,
   "metadata": {},
   "outputs": [],
   "source": [
    "ax1.xaxis_date()"
   ]
  },
  {
   "cell_type": "code",
   "execution_count": 51,
   "metadata": {},
   "outputs": [],
   "source": [
    "candlestick_ohlc(ax1, df_ohlc.values, width=2, colorup='g')\n",
    "plt.show()\n",
    "ax2.fill_between(df_volume.index.map(mdates.date2num), df_volume.values,0)\n",
    "plt.show()"
   ]
  },
  {
   "cell_type": "code",
   "execution_count": 60,
   "metadata": {},
   "outputs": [
    {
     "name": "stdout",
     "output_type": "stream",
     "text": [
      "['MMM', 'AXP', 'AAPL', 'BA', 'CAT', 'CVX', 'CSCO', 'KO', 'DWDP', 'XOM', 'GE', 'GS', 'HD', 'IBM', 'INTC', 'JNJ', 'JPM', 'MCD', 'MRK', 'MSFT', 'NKE', 'PFE', 'PG', 'TRV', 'UNH', 'UTX', 'VZ', 'V', 'WMT', 'DIS', 'MMM', 'AXP', 'AAPL', 'BA', 'CAT', 'CVX', 'CSCO', 'KO', 'DWDP', 'XOM', 'GE', 'GS', 'HD', 'IBM', 'INTC', 'JNJ', 'JPM', 'MCD', 'MRK', 'MSFT', 'NKE', 'PFE', 'PG', 'TRV', 'UNH', 'UTX', 'VZ', 'V', 'WMT', 'DIS', 'MMM', 'AXP', 'AAPL', 'BA', 'CAT', 'CVX', 'CSCO', 'KO', 'DWDP', 'XOM', 'GE', 'GS', 'HD', 'IBM', 'INTC', 'JNJ', 'JPM', 'MCD', 'MRK', 'MSFT', 'NKE', 'PFE', 'PG', 'TRV', 'UNH', 'UTX', 'VZ', 'V', 'WMT', 'DIS', 'MMM', 'AXP', 'AAPL', 'BA', 'CAT', 'CVX', 'CSCO', 'KO', 'DWDP', 'XOM', 'GE', 'GS', 'HD', 'IBM', 'INTC', 'JNJ', 'JPM', 'MCD', 'MRK', 'MSFT', 'NKE', 'PFE', 'PG', 'TRV', 'UNH', 'UTX', 'VZ', 'V', 'WMT', 'DIS']\n",
      "['3M', 'American Express', 'Apple', 'Boeing', 'Caterpillar', 'Chevron', 'Cisco Systems', 'Coca-Cola', 'DowDuPont', 'ExxonMobil', 'General Electric', 'Goldman Sachs', 'The Home Depot', 'IBM', 'Intel', 'Johnson & Johnson', 'JPMorgan Chase', \"McDonald's\", 'Merck', 'Microsoft', 'Nike', 'Pfizer', 'Procter & Gamble', 'Travelers', 'UnitedHealth Group', 'United Technologies', 'Verizon', 'Visa', 'Walmart', 'Walt Disney']\n"
     ]
    },
    {
     "data": {
      "text/plain": [
       "(['3M',\n",
       "  'American Express',\n",
       "  'Apple',\n",
       "  'Boeing',\n",
       "  'Caterpillar',\n",
       "  'Chevron',\n",
       "  'Cisco Systems',\n",
       "  'Coca-Cola',\n",
       "  'DowDuPont',\n",
       "  'ExxonMobil',\n",
       "  'General Electric',\n",
       "  'Goldman Sachs',\n",
       "  'The Home Depot',\n",
       "  'IBM',\n",
       "  'Intel',\n",
       "  'Johnson & Johnson',\n",
       "  'JPMorgan Chase',\n",
       "  \"McDonald's\",\n",
       "  'Merck',\n",
       "  'Microsoft',\n",
       "  'Nike',\n",
       "  'Pfizer',\n",
       "  'Procter & Gamble',\n",
       "  'Travelers',\n",
       "  'UnitedHealth Group',\n",
       "  'United Technologies',\n",
       "  'Verizon',\n",
       "  'Visa',\n",
       "  'Walmart',\n",
       "  'Walt Disney'],\n",
       " ['MMM',\n",
       "  'AXP',\n",
       "  'AAPL',\n",
       "  'BA',\n",
       "  'CAT',\n",
       "  'CVX',\n",
       "  'CSCO',\n",
       "  'KO',\n",
       "  'DWDP',\n",
       "  'XOM',\n",
       "  'GE',\n",
       "  'GS',\n",
       "  'HD',\n",
       "  'IBM',\n",
       "  'INTC',\n",
       "  'JNJ',\n",
       "  'JPM',\n",
       "  'MCD',\n",
       "  'MRK',\n",
       "  'MSFT',\n",
       "  'NKE',\n",
       "  'PFE',\n",
       "  'PG',\n",
       "  'TRV',\n",
       "  'UNH',\n",
       "  'UTX',\n",
       "  'VZ',\n",
       "  'V',\n",
       "  'WMT',\n",
       "  'DIS',\n",
       "  'MMM',\n",
       "  'AXP',\n",
       "  'AAPL',\n",
       "  'BA',\n",
       "  'CAT',\n",
       "  'CVX',\n",
       "  'CSCO',\n",
       "  'KO',\n",
       "  'DWDP',\n",
       "  'XOM',\n",
       "  'GE',\n",
       "  'GS',\n",
       "  'HD',\n",
       "  'IBM',\n",
       "  'INTC',\n",
       "  'JNJ',\n",
       "  'JPM',\n",
       "  'MCD',\n",
       "  'MRK',\n",
       "  'MSFT',\n",
       "  'NKE',\n",
       "  'PFE',\n",
       "  'PG',\n",
       "  'TRV',\n",
       "  'UNH',\n",
       "  'UTX',\n",
       "  'VZ',\n",
       "  'V',\n",
       "  'WMT',\n",
       "  'DIS',\n",
       "  'MMM',\n",
       "  'AXP',\n",
       "  'AAPL',\n",
       "  'BA',\n",
       "  'CAT',\n",
       "  'CVX',\n",
       "  'CSCO',\n",
       "  'KO',\n",
       "  'DWDP',\n",
       "  'XOM',\n",
       "  'GE',\n",
       "  'GS',\n",
       "  'HD',\n",
       "  'IBM',\n",
       "  'INTC',\n",
       "  'JNJ',\n",
       "  'JPM',\n",
       "  'MCD',\n",
       "  'MRK',\n",
       "  'MSFT',\n",
       "  'NKE',\n",
       "  'PFE',\n",
       "  'PG',\n",
       "  'TRV',\n",
       "  'UNH',\n",
       "  'UTX',\n",
       "  'VZ',\n",
       "  'V',\n",
       "  'WMT',\n",
       "  'DIS',\n",
       "  'MMM',\n",
       "  'AXP',\n",
       "  'AAPL',\n",
       "  'BA',\n",
       "  'CAT',\n",
       "  'CVX',\n",
       "  'CSCO',\n",
       "  'KO',\n",
       "  'DWDP',\n",
       "  'XOM',\n",
       "  'GE',\n",
       "  'GS',\n",
       "  'HD',\n",
       "  'IBM',\n",
       "  'INTC',\n",
       "  'JNJ',\n",
       "  'JPM',\n",
       "  'MCD',\n",
       "  'MRK',\n",
       "  'MSFT',\n",
       "  'NKE',\n",
       "  'PFE',\n",
       "  'PG',\n",
       "  'TRV',\n",
       "  'UNH',\n",
       "  'UTX',\n",
       "  'VZ',\n",
       "  'V',\n",
       "  'WMT',\n",
       "  'DIS'])"
      ]
     },
     "execution_count": 60,
     "metadata": {},
     "output_type": "execute_result"
    }
   ],
   "source": [
    "def getdowtable():\n",
    "   \n",
    "    page = requests.get('https://en.wikipedia.org/wiki/Dow_Jones_Industrial_Average')\n",
    "    pagesoup = BeautifulSoup(page.text,'lxml')\n",
    "    table = pagesoup.find(\"table\",{\"class\":\"wikitable sortable\"})\n",
    "    \n",
    "#     print(table.findAll('tr')[1])\n",
    "    for row in table.findAll('tr')[1:]:\n",
    "        ticker = row.findAll('td')[2].text\n",
    "        name.append(row.findAll('td')[0].text)\n",
    "        #print(name)\n",
    "\n",
    "        mapping = str.maketrans(\".\",\"-\")\n",
    "        ticker = ticker.translate(mapping)\n",
    "        tickers.append(ticker)\n",
    "#         \n",
    "    with open(\"DowJones.pickle\",\"wb\") as f:\n",
    "        pickle.dump(tickers,f)\n",
    "        pickle.dump(name,f)\n",
    "        print(tickers)\n",
    "        print(name)\n",
    "        return (name,tickers)\n",
    "getdowtable()     "
   ]
  },
  {
   "cell_type": "code",
   "execution_count": 36,
   "metadata": {},
   "outputs": [
    {
     "name": "stdout",
     "output_type": "stream",
     "text": [
      "[*********************100%***********************]  1 of 1 downloaded\n",
      "[*********************100%***********************]  1 of 1 downloaded\n",
      "[*********************100%***********************]  1 of 1 downloaded\n",
      "[*********************100%***********************]  1 of 1 downloaded\n",
      "[*********************100%***********************]  1 of 1 downloaded\n",
      "[*********************100%***********************]  1 of 1 downloaded\n",
      "[*********************100%***********************]  1 of 1 downloaded\n",
      "[*********************100%***********************]  1 of 1 downloaded\n",
      "[*********************100%***********************]  1 of 1 downloaded\n",
      "[*********************100%***********************]  1 of 1 downloaded\n",
      "[*********************100%***********************]  1 of 1 downloaded\n",
      "[*********************100%***********************]  1 of 1 downloaded\n",
      "[*********************100%***********************]  1 of 1 downloaded\n",
      "[*********************100%***********************]  1 of 1 downloaded\n",
      "[*********************100%***********************]  1 of 1 downloaded\n",
      "[*********************100%***********************]  1 of 1 downloaded\n",
      "[*********************100%***********************]  1 of 1 downloaded\n",
      "[*********************100%***********************]  1 of 1 downloaded\n",
      "[*********************100%***********************]  1 of 1 downloaded\n",
      "[*********************100%***********************]  1 of 1 downloaded\n",
      "[*********************100%***********************]  1 of 1 downloaded\n",
      "[*********************100%***********************]  1 of 1 downloaded\n",
      "[*********************100%***********************]  1 of 1 downloaded\n",
      "[*********************100%***********************]  1 of 1 downloaded\n",
      "[*********************100%***********************]  1 of 1 downloaded\n",
      "[*********************100%***********************]  1 of 1 downloaded\n",
      "[*********************100%***********************]  1 of 1 downloaded\n",
      "[*********************100%***********************]  1 of 1 downloaded\n",
      "[*********************100%***********************]  1 of 1 downloaded\n",
      "[*********************100%***********************]  1 of 1 downloaded\n"
     ]
    }
   ],
   "source": [
    "def getdatafromweb(reloaddb=False):\n",
    "    if reloaddb:\n",
    "        tickers=getdowtable() \n",
    "    else:\n",
    "        with open(\"DowJones.pickle\",\"rb\") as f:\n",
    "            tickers=pickle.load(f)\n",
    "    start= dt.datetime(2000,1,1)\n",
    "    end= dt.datetime(2018,2,28)\n",
    "    \n",
    "    if not os.path.exists('Stockdb'):\n",
    "        os.makedirs('Stockdb')\n",
    "    for ticker in tickers:\n",
    "        if not os.path.exists('Stockdb/{}.csv'.format(ticker)):\n",
    "            df = web.get_da\\ta_yahoo(ticker, start, end)\n",
    "            df.to_csv('Stockdb/{} .csv'.format(ticker))\n",
    "        else:\n",
    "            print(\"already have {}\".format(ticker))\n",
    "getdatafromweb()\n",
    "\n"
   ]
  },
  {
   "cell_type": "code",
   "execution_count": 69,
   "metadata": {},
   "outputs": [
    {
     "name": "stdout",
     "output_type": "stream",
     "text": [
      "{'3M': 'MMM', 'American Express': 'AXP', 'Apple': 'AAPL', 'Boeing': 'BA', 'Caterpillar': 'CAT', 'Chevron': 'CVX', 'Cisco Systems': 'CSCO', 'Coca-Cola': 'KO', 'DowDuPont': 'DWDP', 'ExxonMobil': 'XOM', 'General Electric': 'GE', 'Goldman Sachs': 'GS', 'The Home Depot': 'HD', 'IBM': 'IBM', 'Intel': 'INTC', 'Johnson & Johnson': 'JNJ', 'JPMorgan Chase': 'JPM', \"McDonald's\": 'MCD', 'Merck': 'MRK', 'Microsoft': 'MSFT', 'Nike': 'NKE', 'Pfizer': 'PFE', 'Procter & Gamble': 'PG', 'Travelers': 'TRV', 'UnitedHealth Group': 'UNH', 'United Technologies': 'UTX', 'Verizon': 'VZ', 'Visa': 'V', 'Walmart': 'WMT', 'Walt Disney': 'DIS'}\n",
      "['http://www.moneycontrol.com/company-article/3M/news/MMM#MMM', 'http://www.moneycontrol.com/company-article/American Express/news/AXP#AXP', 'http://www.moneycontrol.com/company-article/Apple/news/AAPL#AAPL', 'http://www.moneycontrol.com/company-article/Boeing/news/BA#BA', 'http://www.moneycontrol.com/company-article/Caterpillar/news/CAT#CAT', 'http://www.moneycontrol.com/company-article/Chevron/news/CVX#CVX', 'http://www.moneycontrol.com/company-article/Cisco Systems/news/CSCO#CSCO', 'http://www.moneycontrol.com/company-article/Coca-Cola/news/KO#KO', 'http://www.moneycontrol.com/company-article/DowDuPont/news/DWDP#DWDP', 'http://www.moneycontrol.com/company-article/ExxonMobil/news/XOM#XOM', 'http://www.moneycontrol.com/company-article/General Electric/news/GE#GE', 'http://www.moneycontrol.com/company-article/Goldman Sachs/news/GS#GS', 'http://www.moneycontrol.com/company-article/The Home Depot/news/HD#HD', 'http://www.moneycontrol.com/company-article/IBM/news/IBM#IBM', 'http://www.moneycontrol.com/company-article/Intel/news/INTC#INTC', 'http://www.moneycontrol.com/company-article/Johnson & Johnson/news/JNJ#JNJ', 'http://www.moneycontrol.com/company-article/JPMorgan Chase/news/JPM#JPM', \"http://www.moneycontrol.com/company-article/McDonald's/news/MCD#MCD\", 'http://www.moneycontrol.com/company-article/Merck/news/MRK#MRK', 'http://www.moneycontrol.com/company-article/Microsoft/news/MSFT#MSFT', 'http://www.moneycontrol.com/company-article/Nike/news/NKE#NKE', 'http://www.moneycontrol.com/company-article/Pfizer/news/PFE#PFE', 'http://www.moneycontrol.com/company-article/Procter & Gamble/news/PG#PG', 'http://www.moneycontrol.com/company-article/Travelers/news/TRV#TRV', 'http://www.moneycontrol.com/company-article/UnitedHealth Group/news/UNH#UNH', 'http://www.moneycontrol.com/company-article/United Technologies/news/UTX#UTX', 'http://www.moneycontrol.com/company-article/Verizon/news/VZ#VZ', 'http://www.moneycontrol.com/company-article/Visa/news/V#V', 'http://www.moneycontrol.com/company-article/Walmart/news/WMT#WMT', 'http://www.moneycontrol.com/company-article/Walt Disney/news/DIS#DIS']\n"
     ]
    }
   ],
   "source": [
    "# Base_url = \"http://www.moneycontrol.com\"\n",
    "# companies={}\n",
    "# # # Build a dictionary of companies and their abbreviated names \n",
    "# for x  in range(30):\n",
    "#      companies[name[x]]=tickers[x]\n",
    "# print(companies)\n",
    "# # zipped= list(zip( tickers, name))\n",
    "# # print(zipped)\n",
    "# url_list = ['http://www.moneycontrol.com/company-article/{}/news/{}#{}'.format(k,v,v) for k,v in companies.items()]\n",
    "# print (url_list)           \n",
    "# # Create a list of the news section urls of the respective companies \n",
    "# # url_list = ['http://www.moneycontrol.com/company-article/{}/news/{}#{}'.format(k,v,v) for k,v in companies.iteritems()]\n",
    "# # print url_list"
   ]
  },
  {
   "cell_type": "code",
   "execution_count": 73,
   "metadata": {},
   "outputs": [],
   "source": [
    "# List_of_links = []   \n",
    "\n",
    "# # Extract the relevant news articles weblinks from the news section of selected companies\n",
    "# for urls in url_list:\n",
    "#     html = requests.get(urls)\n",
    "#     soup = BeautifulSoup(html.text,'html.parser') # Create a BeautifulSoup object \n",
    "\n",
    "#    # Retrieve a list of all the links and the titles for the respective links\n",
    "#     word1,word2,word3 = \"US\",\"USA\",\"USFDA\"\n",
    "#     sub_links = soup.find_all('a', class_='arial11_summ')\n",
    "#     for links in sub_links:\n",
    "#         sp = BeautifulSoup(str(links),'html.parser')  # first convert into a string\n",
    "#         tag = sp.a\n",
    "#         if word1 in tag['title'] or word2 in tag['title'] or word3 in tag['title']:\n",
    "#             category_links = Base_url + tag[\"href\"]\n",
    "#             List_of_links.append(category_links)\n",
    "# #             time.sleep(3)\n",
    "          \n",
    "# # Print the select list of news articles weblinks    \n",
    "# for p in List_of_links: \n",
    "#     print (p)\n"
   ]
  },
  {
   "cell_type": "code",
   "execution_count": 86,
   "metadata": {},
   "outputs": [
    {
     "name": "stdout",
     "output_type": "stream",
     "text": [
      "0\n",
      "10\n",
      "20\n",
      "stock_dfs/MMM.csv not found\n",
      "30\n",
      "stock_dfs/AXP.csv not found\n",
      "stock_dfs/AAPL.csv not found\n",
      "stock_dfs/BA.csv not found\n",
      "stock_dfs/CAT.csv not found\n",
      "stock_dfs/CVX.csv not found\n",
      "stock_dfs/CSCO.csv not found\n",
      "stock_dfs/KO.csv not found\n",
      "stock_dfs/DWDP.csv not found\n",
      "stock_dfs/XOM.csv not found\n",
      "stock_dfs/GE.csv not found\n",
      "40\n",
      "stock_dfs/GS.csv not found\n",
      "stock_dfs/HD.csv not found\n",
      "stock_dfs/IBM.csv not found\n",
      "stock_dfs/INTC.csv not found\n",
      "stock_dfs/JNJ.csv not found\n",
      "stock_dfs/JPM.csv not found\n",
      "stock_dfs/MCD.csv not found\n",
      "stock_dfs/MRK.csv not found\n",
      "stock_dfs/MSFT.csv not found\n",
      "stock_dfs/NKE.csv not found\n",
      "50\n",
      "stock_dfs/PFE.csv not found\n",
      "stock_dfs/PG.csv not found\n",
      "stock_dfs/TRV.csv not found\n",
      "stock_dfs/UNH.csv not found\n",
      "stock_dfs/UTX.csv not found\n",
      "stock_dfs/VZ.csv not found\n",
      "stock_dfs/V.csv not found\n",
      "stock_dfs/WMT.csv not found\n",
      "stock_dfs/DIS.csv not found\n",
      "stock_dfs/MMM.csv not found\n",
      "60\n",
      "stock_dfs/AXP.csv not found\n",
      "stock_dfs/AAPL.csv not found\n",
      "stock_dfs/BA.csv not found\n",
      "stock_dfs/CAT.csv not found\n",
      "stock_dfs/CVX.csv not found\n",
      "stock_dfs/CSCO.csv not found\n",
      "stock_dfs/KO.csv not found\n",
      "stock_dfs/DWDP.csv not found\n",
      "stock_dfs/XOM.csv not found\n",
      "stock_dfs/GE.csv not found\n",
      "70\n",
      "stock_dfs/GS.csv not found\n",
      "stock_dfs/HD.csv not found\n",
      "stock_dfs/IBM.csv not found\n",
      "stock_dfs/INTC.csv not found\n",
      "stock_dfs/JNJ.csv not found\n",
      "stock_dfs/JPM.csv not found\n",
      "stock_dfs/MCD.csv not found\n",
      "stock_dfs/MRK.csv not found\n",
      "stock_dfs/MSFT.csv not found\n",
      "stock_dfs/NKE.csv not found\n",
      "80\n",
      "stock_dfs/PFE.csv not found\n",
      "stock_dfs/PG.csv not found\n",
      "stock_dfs/TRV.csv not found\n",
      "stock_dfs/UNH.csv not found\n",
      "stock_dfs/UTX.csv not found\n",
      "stock_dfs/VZ.csv not found\n",
      "stock_dfs/V.csv not found\n",
      "stock_dfs/WMT.csv not found\n",
      "stock_dfs/DIS.csv not found\n",
      "stock_dfs/MMM.csv not found\n",
      "90\n",
      "stock_dfs/AXP.csv not found\n",
      "stock_dfs/AAPL.csv not found\n",
      "stock_dfs/BA.csv not found\n",
      "stock_dfs/CAT.csv not found\n",
      "stock_dfs/CVX.csv not found\n",
      "stock_dfs/CSCO.csv not found\n",
      "stock_dfs/KO.csv not found\n",
      "stock_dfs/DWDP.csv not found\n",
      "stock_dfs/XOM.csv not found\n",
      "stock_dfs/GE.csv not found\n",
      "100\n",
      "stock_dfs/GS.csv not found\n",
      "stock_dfs/HD.csv not found\n",
      "stock_dfs/IBM.csv not found\n",
      "stock_dfs/INTC.csv not found\n",
      "stock_dfs/JNJ.csv not found\n",
      "stock_dfs/JPM.csv not found\n",
      "stock_dfs/MCD.csv not found\n",
      "stock_dfs/MRK.csv not found\n",
      "stock_dfs/MSFT.csv not found\n",
      "stock_dfs/NKE.csv not found\n",
      "110\n",
      "stock_dfs/PFE.csv not found\n",
      "stock_dfs/PG.csv not found\n",
      "stock_dfs/TRV.csv not found\n",
      "stock_dfs/UNH.csv not found\n",
      "stock_dfs/UTX.csv not found\n",
      "stock_dfs/VZ.csv not found\n",
      "stock_dfs/V.csv not found\n",
      "stock_dfs/WMT.csv not found\n",
      "stock_dfs/DIS.csv not found\n",
      "                  MMM        AXP      AAPL         BA        CAT        CVX  \\\n",
      "Date                                                                          \n",
      "2000-01-03  30.435419  35.396706  2.706315  27.086088  14.906949  18.858921   \n",
      "2000-01-04  29.226057  34.060188  2.478144  27.043995  14.715347  18.858921   \n",
      "2000-01-05  30.072615  33.315517  2.514410  28.728983  15.060226  19.197191   \n",
      "2000-01-06  32.491302  33.994282  2.296816  29.023827  15.826653  20.014694   \n",
      "2000-01-07  33.136307  34.489193  2.405613  29.866318  16.343996  20.367069   \n",
      "\n",
      "                 CSCO         KO       DWDP        XOM    ...           NKE  \\\n",
      "Date                                                      ...                 \n",
      "2000-01-03  44.310497  12.777752  22.652302  23.613300    ...      1.859482   \n",
      "2000-01-04  41.824585  12.791906  22.033161  23.161015    ...      1.758055   \n",
      "2000-01-05  41.696453  12.905237  22.748390  24.423641    ...      1.859482   \n",
      "2000-01-06  41.004509  12.919400  23.388878  25.686293    ...      1.849822   \n",
      "2000-01-07  43.413525  13.769368  23.911953  25.610918    ...      1.849822   \n",
      "\n",
      "                  PFE         PG        TRV       UNH        UTX         VZ  \\\n",
      "Date                                                                          \n",
      "2000-01-03  17.361469  33.148941  20.574375  5.852445  19.987106  22.601252   \n",
      "2000-01-04  16.714664  32.511082  20.301605  5.777589  19.167643  21.870655   \n",
      "2000-01-05  16.987000  31.892557  20.145742  5.763978  18.787884  22.601252   \n",
      "2000-01-06  17.599760  33.361542  20.535402  5.974937  19.687311  22.502733   \n",
      "2000-01-07  18.791233  36.028934  21.353708  6.675871  20.466810  22.336563   \n",
      "\n",
      "             V        WMT        DIS  \n",
      "Date                                  \n",
      "2000-01-03 NaN  48.176212  23.423954  \n",
      "2000-01-04 NaN  46.373535  24.796074  \n",
      "2000-01-05 NaN  45.427155  25.825165  \n",
      "2000-01-06 NaN  45.922894  24.796074  \n",
      "2000-01-07 NaN  49.393002  24.404043  \n",
      "\n",
      "[5 rows x 30 columns]\n"
     ]
    }
   ],
   "source": [
    "def compiledata():\n",
    "    with open(\"DowJones.pickle\",\"rb\") as f:\n",
    "    \n",
    "        tickers = pickle.load(f)\n",
    "    main_df= pd.DataFrame()\n",
    "    \n",
    "    for count,ticker in enumerate(tickers):\n",
    "        try:\n",
    "            df= pd.read_csv('Stockdb/{} .csv'.format(ticker))\n",
    "            df.set_index('Date', inplace=True )\n",
    "            df.rename(columns={'Adj Close': ticker}, inplace= True)\n",
    "            df.drop(['Open','High','Low','Close','Volume'],1,inplace=True)\n",
    "        \n",
    "            if main_df.empty:\n",
    "                main_df=df\n",
    "            else:\n",
    "                main_df=main_df.join(df,how='outer')\n",
    "        \n",
    "        except:\n",
    "            print('stock_dfs/{}.csv'.format(ticker) + ' not found')\n",
    "\n",
    "            \n",
    "        if count%10 == 0:\n",
    "            print(count)\n",
    "    print(main_df.head())\n",
    "    main_df.to_csv('Combined.csv')\n",
    "compiledata()"
   ]
  },
  {
   "cell_type": "code",
   "execution_count": 105,
   "metadata": {},
   "outputs": [
    {
     "data": {
      "image/png": "[encoded data removed]",
      "text/plain": [
       "<Figure size 432x288 with 2 Axes>"
      ]
     },
     "metadata": {},
     "output_type": "display_data"
    },
    {
     "name": "stdout",
     "output_type": "stream",
     "text": [
      "           MMM       AXP      AAPL        BA       CAT       CVX      CSCO  \\\n",
      "MMM   1.000000  0.883319  0.972821  0.949304  0.848173  0.840189  0.324819   \n",
      "AXP   0.883319  1.000000  0.877080  0.873242  0.847926  0.851386  0.369042   \n",
      "AAPL  0.972821  0.877080  1.000000  0.924973  0.846531  0.858919  0.349276   \n",
      "BA    0.949304  0.873242  0.924973  1.000000  0.849611  0.786844  0.403479   \n",
      "CAT   0.848173  0.847926  0.846531  0.849611  1.000000  0.935869  0.161885   \n",
      "\n",
      "            KO      DWDP       XOM    ...          NKE       PFE        PG  \\\n",
      "MMM   0.918706  0.952672  0.776298    ...     0.957101  0.787536  0.931595   \n",
      "AXP   0.869451  0.881685  0.799064    ...     0.854692  0.754790  0.876073   \n",
      "AAPL  0.947936  0.902548  0.790567    ...     0.968502  0.788861  0.920001   \n",
      "BA    0.837855  0.933314  0.718139    ...     0.878392  0.753415  0.854295   \n",
      "CAT   0.872535  0.814655  0.884890    ...     0.807326  0.496022  0.896558   \n",
      "\n",
      "           TRV       UNH       UTX        VZ         V       WMT       DIS  \n",
      "MMM   0.978362  0.972607  0.928740  0.912699  0.986292  0.907578  0.947423  \n",
      "AXP   0.885786  0.834992  0.915511  0.880785  0.838525  0.871278  0.890078  \n",
      "AAPL  0.977292  0.940589  0.926082  0.934275  0.971068  0.926151  0.964560  \n",
      "BA    0.920080  0.958078  0.874313  0.841325  0.941013  0.859969  0.878487  \n",
      "CAT   0.835476  0.809567  0.927716  0.811643  0.718595  0.817048  0.766729  \n",
      "\n",
      "[5 rows x 30 columns]\n"
     ]
    }
   ],
   "source": [
    "def visualize():\n",
    "    df= pd.read_csv('Combined.csv')\n",
    "    df_corr=df.corr()\n",
    "    data=df_corr.values\n",
    "    fig=plt.figure()\n",
    "    ax= fig.add_subplot(1,1,1)\n",
    "    heatmap = ax.pcolor(data, cmap=plt.cm.RdYlGn)\n",
    "    fig.colorbar(heatmap)\n",
    "    ax.set_xticks(np.arange(data.shape[0]+0.5))\n",
    "    ax.set_yticks(np.arange(data.shape[1]+0.5))\n",
    "    ax.invert_yaxis()\n",
    "    ax.xaxis.tick_top()\n",
    "    column_labels= df_corr.columns\n",
    "    row_labels = df_corr.index\n",
    "    ax.set_xticklabels(column_labels)\n",
    "    ax.set_yticklabels(row_labels)\n",
    "    plt.xticks(rotation=90)\n",
    "    heatmap.set_clim(-1,1)\n",
    "    plt.tight_layout()\n",
    "    plt.show()\n",
    "    print(df_corr.head())\n",
    "visualize()   "
   ]
  },
  {
   "cell_type": "code",
   "execution_count": 108,
   "metadata": {},
   "outputs": [
    {
     "ename": "WebDriverException",
     "evalue": "Message: 'chromedriver' executable needs to be in PATH. Please see https://sites.google.com/a/chromium.org/chromedriver/home\n",
     "output_type": "error",
     "traceback": [
      "\u001b[0;31m---------------------------------------------------------------------------\u001b[0m",
      "\u001b[0;31mFileNotFoundError\u001b[0m                         Traceback (most recent call last)",
      "\u001b[0;32m~/anaconda3/lib/python3.6/site-packages/selenium/webdriver/common/service.py\u001b[0m in \u001b[0;36mstart\u001b[0;34m(self)\u001b[0m\n\u001b[1;32m     75\u001b[0m                                             \u001b[0mstderr\u001b[0m\u001b[0;34m=\u001b[0m\u001b[0mself\u001b[0m\u001b[0;34m.\u001b[0m\u001b[0mlog_file\u001b[0m\u001b[0;34m,\u001b[0m\u001b[0;34m\u001b[0m\u001b[0m\n\u001b[0;32m---> 76\u001b[0;31m                                             stdin=PIPE)\n\u001b[0m\u001b[1;32m     77\u001b[0m         \u001b[0;32mexcept\u001b[0m \u001b[0mTypeError\u001b[0m\u001b[0;34m:\u001b[0m\u001b[0;34m\u001b[0m\u001b[0m\n",
      "\u001b[0;32m~/anaconda3/lib/python3.6/subprocess.py\u001b[0m in \u001b[0;36m__init__\u001b[0;34m(self, args, bufsize, executable, stdin, stdout, stderr, preexec_fn, close_fds, shell, cwd, env, universal_newlines, startupinfo, creationflags, restore_signals, start_new_session, pass_fds, encoding, errors)\u001b[0m\n\u001b[1;32m    708\u001b[0m                                 \u001b[0merrread\u001b[0m\u001b[0;34m,\u001b[0m \u001b[0merrwrite\u001b[0m\u001b[0;34m,\u001b[0m\u001b[0;34m\u001b[0m\u001b[0m\n\u001b[0;32m--> 709\u001b[0;31m                                 restore_signals, start_new_session)\n\u001b[0m\u001b[1;32m    710\u001b[0m         \u001b[0;32mexcept\u001b[0m\u001b[0;34m:\u001b[0m\u001b[0;34m\u001b[0m\u001b[0m\n",
      "\u001b[0;32m~/anaconda3/lib/python3.6/subprocess.py\u001b[0m in \u001b[0;36m_execute_child\u001b[0;34m(self, args, executable, preexec_fn, close_fds, pass_fds, cwd, env, startupinfo, creationflags, shell, p2cread, p2cwrite, c2pread, c2pwrite, errread, errwrite, restore_signals, start_new_session)\u001b[0m\n\u001b[1;32m   1343\u001b[0m                             \u001b[0merr_msg\u001b[0m \u001b[0;34m+=\u001b[0m \u001b[0;34m': '\u001b[0m \u001b[0;34m+\u001b[0m \u001b[0mrepr\u001b[0m\u001b[0;34m(\u001b[0m\u001b[0merr_filename\u001b[0m\u001b[0;34m)\u001b[0m\u001b[0;34m\u001b[0m\u001b[0m\n\u001b[0;32m-> 1344\u001b[0;31m                     \u001b[0;32mraise\u001b[0m \u001b[0mchild_exception_type\u001b[0m\u001b[0;34m(\u001b[0m\u001b[0merrno_num\u001b[0m\u001b[0;34m,\u001b[0m \u001b[0merr_msg\u001b[0m\u001b[0;34m,\u001b[0m \u001b[0merr_filename\u001b[0m\u001b[0;34m)\u001b[0m\u001b[0;34m\u001b[0m\u001b[0m\n\u001b[0m\u001b[1;32m   1345\u001b[0m                 \u001b[0;32mraise\u001b[0m \u001b[0mchild_exception_type\u001b[0m\u001b[0;34m(\u001b[0m\u001b[0merr_msg\u001b[0m\u001b[0;34m)\u001b[0m\u001b[0;34m\u001b[0m\u001b[0m\n",
      "\u001b[0;31mFileNotFoundError\u001b[0m: [Errno 2] No such file or directory: '/Users/aniketmuluk/Downloads/chromedriver': '/Users/aniketmuluk/Downloads/chromedriver'",
      "\nDuring handling of the above exception, another exception occurred:\n",
      "\u001b[0;31mWebDriverException\u001b[0m                        Traceback (most recent call last)",
      "\u001b[0;32m<ipython-input-108-948ad7c07c2e>\u001b[0m in \u001b[0;36m<module>\u001b[0;34m()\u001b[0m\n\u001b[1;32m      1\u001b[0m \u001b[0mchrome_options\u001b[0m \u001b[0;34m=\u001b[0m \u001b[0mwebdriver\u001b[0m\u001b[0;34m.\u001b[0m\u001b[0mChromeOptions\u001b[0m\u001b[0;34m(\u001b[0m\u001b[0;34m)\u001b[0m\u001b[0;34m\u001b[0m\u001b[0m\n\u001b[1;32m      2\u001b[0m \u001b[0mchrome_options\u001b[0m\u001b[0;34m.\u001b[0m\u001b[0madd_argument\u001b[0m\u001b[0;34m(\u001b[0m\u001b[0;34m\"--incognito\"\u001b[0m\u001b[0;34m)\u001b[0m\u001b[0;34m\u001b[0m\u001b[0m\n\u001b[0;32m----> 3\u001b[0;31m \u001b[0mdriver\u001b[0m \u001b[0;34m=\u001b[0m \u001b[0mwebdriver\u001b[0m\u001b[0;34m.\u001b[0m\u001b[0mChrome\u001b[0m\u001b[0;34m(\u001b[0m\u001b[0mexecutable_path\u001b[0m\u001b[0;34m=\u001b[0m\u001b[0;34mr'/Users/aniketmuluk/Downloads/chromedriver'\u001b[0m\u001b[0;34m,\u001b[0m\u001b[0mchrome_options\u001b[0m\u001b[0;34m=\u001b[0m\u001b[0mchrome_options\u001b[0m\u001b[0;34m)\u001b[0m\u001b[0;34m\u001b[0m\u001b[0m\n\u001b[0m\u001b[1;32m      4\u001b[0m \u001b[0;34m\u001b[0m\u001b[0m\n\u001b[1;32m      5\u001b[0m \u001b[0;34m\u001b[0m\u001b[0m\n",
      "\u001b[0;32m~/anaconda3/lib/python3.6/site-packages/selenium/webdriver/chrome/webdriver.py\u001b[0m in \u001b[0;36m__init__\u001b[0;34m(self, executable_path, port, options, service_args, desired_capabilities, service_log_path, chrome_options)\u001b[0m\n\u001b[1;32m     66\u001b[0m             \u001b[0mservice_args\u001b[0m\u001b[0;34m=\u001b[0m\u001b[0mservice_args\u001b[0m\u001b[0;34m,\u001b[0m\u001b[0;34m\u001b[0m\u001b[0m\n\u001b[1;32m     67\u001b[0m             log_path=service_log_path)\n\u001b[0;32m---> 68\u001b[0;31m         \u001b[0mself\u001b[0m\u001b[0;34m.\u001b[0m\u001b[0mservice\u001b[0m\u001b[0;34m.\u001b[0m\u001b[0mstart\u001b[0m\u001b[0;34m(\u001b[0m\u001b[0;34m)\u001b[0m\u001b[0;34m\u001b[0m\u001b[0m\n\u001b[0m\u001b[1;32m     69\u001b[0m \u001b[0;34m\u001b[0m\u001b[0m\n\u001b[1;32m     70\u001b[0m         \u001b[0;32mtry\u001b[0m\u001b[0;34m:\u001b[0m\u001b[0;34m\u001b[0m\u001b[0m\n",
      "\u001b[0;32m~/anaconda3/lib/python3.6/site-packages/selenium/webdriver/common/service.py\u001b[0m in \u001b[0;36mstart\u001b[0;34m(self)\u001b[0m\n\u001b[1;32m     81\u001b[0m                 raise WebDriverException(\n\u001b[1;32m     82\u001b[0m                     \"'%s' executable needs to be in PATH. %s\" % (\n\u001b[0;32m---> 83\u001b[0;31m                         os.path.basename(self.path), self.start_error_message)\n\u001b[0m\u001b[1;32m     84\u001b[0m                 )\n\u001b[1;32m     85\u001b[0m             \u001b[0;32melif\u001b[0m \u001b[0merr\u001b[0m\u001b[0;34m.\u001b[0m\u001b[0merrno\u001b[0m \u001b[0;34m==\u001b[0m \u001b[0merrno\u001b[0m\u001b[0;34m.\u001b[0m\u001b[0mEACCES\u001b[0m\u001b[0;34m:\u001b[0m\u001b[0;34m\u001b[0m\u001b[0m\n",
      "\u001b[0;31mWebDriverException\u001b[0m: Message: 'chromedriver' executable needs to be in PATH. Please see https://sites.google.com/a/chromium.org/chromedriver/home\n"
     ]
    }
   ],
   "source": [
    "chrome_options = webdriver.ChromeOptions()\n",
    "chrome_options.add_argument(\"--incognito\")\n",
    "driver = webdriver.Chrome(executable_path=r'/Users/Downloads/chromedriver',chrome_options=chrome_options)\n",
    "\n",
    "\n",
    "driver.get('https://query.nytimes.com/search/sitesearch/#/dow+jones/30days/')\n",
    "\n",
    "\n",
    "\n",
    "\n",
    "\n",
    "\n",
    "def get_summary_data(soup):\n",
    "    soup1 = soup\n",
    "    Summary1 = []\n",
    "    for p in soup.find_all('p'):\n",
    "            Summary1.append(p.get_text())\n",
    "            \n",
    "    return Summary1\n",
    "\n",
    "a = 0\n",
    "b = []\n",
    "for a in range (6):\n",
    "    data_div = driver.find_element_by_id('searchResults')\n",
    "    data_html = data_div.get_attribute('innerHTML')\n",
    "    soup = BeautifulSoup(data_html, 'html5lib')\n",
    "    b.append(get_summary_data(soup))\n",
    "    Next_element = driver.find_element_by_class_name('next')\n",
    "    Next_element.click()\n",
    "    time.sleep(15)\n",
    "    soup = None\n",
    "    a = a+1\n",
    "    \n",
    "\n",
    "b.remove(b[1])\n",
    "\n",
    "import pandas as pd\n",
    "df = pd.DataFrame(b)\n",
    "\n",
    "print(df)"
   ]
  },
  {
   "cell_type": "code",
   "execution_count": 115,
   "metadata": {},
   "outputs": [],
   "source": [
    "import string\n",
    "from nltk.corpus import stopwords\n",
    "from scipy.spatial import distance\n",
    "import re, string\n",
    "from sklearn.preprocessing import normalize\n",
    "from nltk.corpus import stopwords\n",
    "import nltk\n",
    "from nltk.collocations import *\n",
    "import csv"
   ]
  },
  {
   "cell_type": "code",
   "execution_count": 110,
   "metadata": {},
   "outputs": [],
   "source": [
    " stop_words = stopwords.words('english')"
   ]
  },
  {
   "cell_type": "code",
   "execution_count": 116,
   "metadata": {},
   "outputs": [],
   "source": [
    "text=nltk.corpus.reuters.raw('test/14826')\n",
    "tokens=nltk.word_tokenize(text.lower())\n",
    "docs=[]\n",
    "with open(\"/Users/yash/Downloads/news data.csv\",\"r\") as f:\n",
    "    reader=csv.reader(f)\n",
    "    for line in reader:\n",
    "        docs.append(line[2])"
   ]
  },
  {
   "cell_type": "code",
   "execution_count": 118,
   "metadata": {},
   "outputs": [
    {
     "name": "stdout",
     "output_type": "stream",
     "text": [
      "['1', \"Facebook plunged to its worst loss in four years Monday and led a rout in technology companies. The social media company's stock fell following reports that a data mining firm working for the Trump campaign improperly obtained data on 50 million F...\", \"To celebrate the bull market's ninth birthday on Friday, the three major U.S. stock indexes climbed almost 2 percent and the Nasdaq closed at a record high, as February's jobs report assuaged fears of inflation and aggressive interest rate hikes.\", \"Asian stock markets were mixed Monday following Wall Street's gain and China's appointment of a new central bank governor and other top economic officials.\", '', 'The CNBC commentator, who would replace the former Wall Street executive Gary D. Cohn, said Mr. Trump “regards himself as a free trader.”']\n"
     ]
    }
   ],
   "source": []
  },
  {
   "cell_type": "code",
   "execution_count": null,
   "metadata": {},
   "outputs": [],
   "source": []
  }
 ],
 "metadata": {
  "kernelspec": {
   "display_name": "Python 3",
   "language": "python",
   "name": "python3"
  },
  "language_info": {
   "codemirror_mode": {
    "name": "ipython",
    "version": 3
   },
   "file_extension": ".py",
   "mimetype": "text/x-python",
   "name": "python",
   "nbconvert_exporter": "python",
   "pygments_lexer": "ipython3",
   "version": "3.6.4"
  }
 },
 "nbformat": 4,
 "nbformat_minor": 2
}
